{
 "cells": [
  {
   "cell_type": "markdown",
   "id": "7e8dfa657a5c67aa",
   "metadata": {
    "collapsed": false,
    "jupyter": {
     "outputs_hidden": false
    }
   },
   "source": [
    "NUMPY PRACTICE \n",
    "\n",
    "CREATING ARRAYS\n",
    "\n",
    "1. Create a rank 2 (2D) array that resembles the matrix below.\n",
    "[[11 12 13 14]\n",
    " [15 16 17 18]]\n"
   ]
  },
  {
   "cell_type": "code",
   "execution_count": 2,
   "id": "b4e6b13bf89fe643",
   "metadata": {
    "collapsed": false,
    "is_executing": true,
    "jupyter": {
     "outputs_hidden": false
    }
   },
   "outputs": [
    {
     "name": "stdout",
     "output_type": "stream",
     "text": [
      "[[11 12 13 14]\n",
      " [15 16 17 18]]\n"
     ]
    }
   ],
   "source": [
    "import numpy as np\n",
    "\n",
    "array_2d = np.array([[11, 12, 13, 14],\n",
    "                     [15, 16, 17, 18]])\n",
    "\n",
    "print(array_2d)\n"
   ]
  },
  {
   "cell_type": "markdown",
   "id": "8ce0e30a01a06848",
   "metadata": {
    "collapsed": false,
    "jupyter": {
     "outputs_hidden": false
    }
   },
   "source": [
    "Use the appropriate functions to solve the following questions\n",
    "1. Create an array with 4 rows and 3 columns of zeros. Your results should look as below:\n",
    "[[0. 0. 0.]\n",
    " [0. 0. 0.]\n",
    " [0. 0. 0.]\n",
    " [0. 0. 0.]]"
   ]
  },
  {
   "cell_type": "code",
   "execution_count": 3,
   "id": "de056b6c73b349a5",
   "metadata": {
    "collapsed": false,
    "jupyter": {
     "outputs_hidden": false
    }
   },
   "outputs": [
    {
     "name": "stdout",
     "output_type": "stream",
     "text": [
      "[[0. 0. 0.]\n",
      " [0. 0. 0.]\n",
      " [0. 0. 0.]\n",
      " [0. 0. 0.]]\n"
     ]
    }
   ],
   "source": [
    "import numpy as np\n",
    "array_zeros = np.zeros((4, 3))\n",
    "\n",
    "print(array_zeros)"
   ]
  },
  {
   "cell_type": "markdown",
   "id": "118abc11-fe1e-4a41-813b-bf17ff46d9b2",
   "metadata": {},
   "source": [
    "2.Create an array of ones that has 3 rows and 4 columns. Your results should look as below:\r\n",
    "[[1. 1. 1. 1.]\r\n",
    "[1. 1. 1. 1.]\r\n",
    "[1. 1. 1. 1\n",
    ".]]"
   ]
  },
  {
   "cell_type": "code",
   "execution_count": 6,
   "id": "886b2b36-969e-4c58-803a-13d1750761d7",
   "metadata": {},
   "outputs": [
    {
     "name": "stdout",
     "output_type": "stream",
     "text": [
      "[[1. 1. 1. 1.]\n",
      " [1. 1. 1. 1.]\n",
      " [1. 1. 1. 1.]]\n"
     ]
    }
   ],
   "source": [
    "import numpy as np\n",
    "\n",
    "array_ones = np.ones((3, 4))\n",
    "\n",
    "print(array_ones)"
   ]
  },
  {
   "cell_type": "markdown",
   "id": "0cf381ee-3bbc-4888-8504-7f5123528a8b",
   "metadata": {},
   "source": [
    "3. Create an array containing integers 4 to 13 inclusive. Your results should look as below:\n",
    "[4 5 6 7 8 9 10 11 12 13]"
   ]
  },
  {
   "cell_type": "code",
   "execution_count": 7,
   "id": "08f6ad60-c885-4a82-a4c8-90f8cdb22d8a",
   "metadata": {},
   "outputs": [
    {
     "name": "stdout",
     "output_type": "stream",
     "text": [
      "[ 4  5  6  7  8  9 10 11 12 13]\n"
     ]
    }
   ],
   "source": [
    "import numpy as np\n",
    "\n",
    "array_integers = np.arange(4, 14)\n",
    "\n",
    "print(array_integers)"
   ]
  },
  {
   "cell_type": "markdown",
   "id": "e01be46a-d4a9-4db6-8963-463bac4e5fb5",
   "metadata": {},
   "source": [
    "4. Create an array containing\r\n",
    "[0., 1.5, 3., 4.5]"
   ]
  },
  {
   "cell_type": "code",
   "execution_count": 8,
   "id": "46725b7c-0d19-4483-9448-0548573142e9",
   "metadata": {},
   "outputs": [
    {
     "name": "stdout",
     "output_type": "stream",
     "text": [
      "[0.  1.5 3.  4.5]\n"
     ]
    }
   ],
   "source": [
    "import numpy as np\n",
    "\n",
    "array_values = np.array([0., 1.5, 3., 4.5])\n",
    "\n",
    "print(array_values)"
   ]
  },
  {
   "cell_type": "markdown",
   "id": "85ab4610-671d-4d82-90c8-8ffdc68d97fd",
   "metadata": {},
   "source": [
    "5. Create a 2 by 2 array containing '4' in each position. Your results should look like this:\r\n",
    "[[4 4]\r\n",
    " [4 4]]"
   ]
  },
  {
   "cell_type": "code",
   "execution_count": 9,
   "id": "40af6719-2b8b-4ef1-9637-2cf9c8c7c342",
   "metadata": {},
   "outputs": [
    {
     "name": "stdout",
     "output_type": "stream",
     "text": [
      "[[4 4]\n",
      " [4 4]]\n"
     ]
    }
   ],
   "source": [
    "import numpy as np\n",
    "\n",
    "array_filled_with_4 = np.full((2, 2), 4)\n",
    "\n",
    "print(array_filled_with_4)"
   ]
  },
  {
   "cell_type": "markdown",
   "id": "068ea819-5f21-4d2d-8ec6-8381af51e42c",
   "metadata": {},
   "source": [
    "6\r\n",
    ". Create 2 matrices:\r\n",
    "\r\n",
    "i. Identity matrix of size 4\r\n",
    "[[1. 0. 0. 0.]\r\n",
    " [0. 1. 0. 0.]\r\n",
    " [0. 0. 1. 0.]\r\n",
    " [0. 0. 0. 1.]]\r\n",
    "ii. Diagonal matrix with [10,12] as the diagonals \r\n",
    "[[10  0]\r\n",
    " [ 0 12]]"
   ]
  },
  {
   "cell_type": "code",
   "execution_count": 10,
   "id": "d0adf60e-ca91-4448-bd2d-a2862f1c9e02",
   "metadata": {},
   "outputs": [
    {
     "name": "stdout",
     "output_type": "stream",
     "text": [
      "Identity Matrix of size 4:\n",
      "[[1. 0. 0. 0.]\n",
      " [0. 1. 0. 0.]\n",
      " [0. 0. 1. 0.]\n",
      " [0. 0. 0. 1.]]\n",
      "\n",
      "Diagonal Matrix with [10, 12] as the diagonals:\n",
      "[[10  0]\n",
      " [ 0 12]]\n"
     ]
    }
   ],
   "source": [
    "import numpy as np\n",
    "\n",
    "identity_matrix = np.eye(4)\n",
    "\n",
    "diagonal_matrix = np.diag([10, 12])\n",
    "\n",
    "print(\"Identity Matrix of size 4:\")\n",
    "print(identity_matrix)\n",
    "print(\"\\nDiagonal Matrix with [10, 12] as the diagonals:\")\n",
    "print(diagonal_matrix)"
   ]
  },
  {
   "cell_type": "markdown",
   "id": "9197a6be-2130-457c-ac8e-393829b8f0d7",
   "metadata": {},
   "source": [
    "7. Create a 3 by 3 array with random floats in [0, 10]. Your answer may be different because it is random but it should look something like this:\r\n",
    "[[6.3685612  0.61720883 8.93157783]\r\n",
    " [3.69927617 5.79879583 7.62145626]\r\n",
    " [7.21895112 4.02011535 4.48844787]]"
   ]
  },
  {
   "cell_type": "code",
   "execution_count": 11,
   "id": "c59c9678-f0e8-4965-8caa-97019f4e23fd",
   "metadata": {},
   "outputs": [
    {
     "name": "stdout",
     "output_type": "stream",
     "text": [
      "[[7.36539344 2.55821893 7.27962561]\n",
      " [1.03859583 2.43382918 6.20901036]\n",
      " [8.81873131 2.35506207 7.25529157]]\n"
     ]
    }
   ],
   "source": [
    "import numpy as np\n",
    "\n",
    "random_array = np.random.uniform(0, 10, (3, 3))\n",
    "\n",
    "print(random_array)"
   ]
  },
  {
   "cell_type": "markdown",
   "id": "9c75e6ef-5371-44c8-8411-4eb1ee169897",
   "metadata": {},
   "source": [
    "8. Create a 3 by 3 array with random integers in [10, 20]. Your answer may be different because it is random but it should look something like this:\r\n",
    "[[19 11 13]\r\n",
    " [10 11 13]\r\n",
    " [11 14 1]\r",
    "0  0]\r\n",
    " [17 18 19]]"
   ]
  },
  {
   "cell_type": "code",
   "execution_count": null,
   "id": "d26260cc-d224-44cd-ae47-70e62a2ca2ba",
   "metadata": {},
   "outputs": [],
   "source": [
    "import numpy as np\n",
    "\n",
    "random_integers_array = np.random.randint(10, 21, (3, 3))\n",
    "\n",
    "print(random_integers_array)"
   ]
  },
  {
   "cell_type": "markdown",
   "id": "48597450-4cc8-4216-bac2-d48e5bc50323",
   "metadata": {},
   "source": [
    "\n",
    "SLICING ARRAYS\n",
    "\n",
    "1. Use this array for the following practice:\n",
    "myArray = np.array([[11,12,13], [14,15,16], [17,18,19]])\n",
    "\n",
    "a. Get a subarray of the first row and first 2 columns. Your results should look like this:\n",
    "[11 12]\n",
    " \n",
    "b. Change all elements in 1st and second row to 0. Your results should look like this:\n",
    "[[ 0  0  0]\n",
    " [ 0  0  0]\n",
    " [17 18 19]]"
   ]
  },
  {
   "cell_type": "code",
   "execution_count": 12,
   "id": "dd3c2bfe-25e2-46c0-a5be-36998ecbab76",
   "metadata": {},
   "outputs": [
    {
     "name": "stdout",
     "output_type": "stream",
     "text": [
      "Subarray of the first row and first 2 columns:\n",
      "[0 0]\n",
      "\n",
      "Array after changing 1st and 2nd row elements to 0:\n",
      "[[ 0  0  0]\n",
      " [ 0  0  0]\n",
      " [17 18 19]]\n"
     ]
    }
   ],
   "source": [
    "import numpy as np\n",
    "\n",
    "myArray = np.array([[11, 12, 13], [14, 15, 16], [17, 18, 19]])\n",
    "\n",
    "subarray_a = myArray[0, :2]\n",
    "\n",
    "myArray[:2, :] = 0\n",
    "\n",
    "print(\"Subarray of the first row and first 2 columns:\")\n",
    "print(subarray_a)\n",
    "print(\"\\nArray after changing 1st and 2nd row elements to 0:\")\n",
    "print(myArray)"
   ]
  },
  {
   "cell_type": "markdown",
   "id": "88b97634-0337-4d98-bd4e-a4f573e3cda2",
   "metadata": {},
   "source": [
    "2. Create an array that contains [0,1,2,3,4,5,6,7,8,9,10,11,12,13,14,15,16,17,18,19,20] and reverse the order.\r\n"
   ]
  },
  {
   "cell_type": "code",
   "execution_count": 13,
   "id": "7aec6eb3-5171-45af-bc53-9e87cedff404",
   "metadata": {},
   "outputs": [
    {
     "name": "stdout",
     "output_type": "stream",
     "text": [
      "[20 19 18 17 16 15 14 13 12 11 10  9  8  7  6  5  4  3  2  1  0]\n"
     ]
    }
   ],
   "source": [
    "import numpy as np\n",
    "\n",
    "array = np.arange(21)\n",
    "\n",
    "reversed_array = array[::-1]\n",
    "\n",
    "print(reversed_array)"
   ]
  },
  {
   "cell_type": "markdown",
   "id": "94093759-b4c8-490c-98de-bb84f19bd061",
   "metadata": {},
   "source": [
    "RESHAPING\r\n",
    "\r\n",
    "Use this array for the following practice: \r\n",
    "myArray = np.array([[11,12,13], [14,15,16]])\r\n",
    "\r\n",
    "Reshape the array to an array with 3 rows. Your results should look like this:\r\n",
    "[[11 12]\r\n",
    " [13 14]\r\n",
    " [15 16]]"
   ]
  },
  {
   "cell_type": "code",
   "execution_count": 14,
   "id": "0139e429-831f-4996-9a48-f850b3f91e35",
   "metadata": {},
   "outputs": [
    {
     "name": "stdout",
     "output_type": "stream",
     "text": [
      "[[11 12]\n",
      " [13 14]\n",
      " [15 16]]\n"
     ]
    }
   ],
   "source": [
    "import numpy as np\n",
    "\n",
    "myArray = np.array([[11, 12, 13], [14, 15, 16]])\n",
    "\n",
    "reshaped_array = myArray.reshape(3, 2)\n",
    "\n",
    "print(reshaped_array)"
   ]
  },
  {
   "cell_type": "markdown",
   "id": "680d00ea-811a-45df-a2bb-ba2fc4a75059",
   "metadata": {},
   "source": [
    "MATH \r\n",
    "\r\n",
    "Use this array for the following practice: \r\n",
    "myArray = np.arange(10)\r\n",
    "\r\n",
    "1. Find the square of every number in array\r\n",
    "2. Find the square root of every number in array\r\n",
    "3. Multiply the square of each number in array with its respective square root"
   ]
  },
  {
   "cell_type": "code",
   "execution_count": 15,
   "id": "c47d7c7b-4da8-4259-8471-fa8289198c7e",
   "metadata": {},
   "outputs": [
    {
     "name": "stdout",
     "output_type": "stream",
     "text": [
      "Square of every number in array:\n",
      "[ 0  1  4  9 16 25 36 49 64 81]\n",
      "\n",
      "Square root of every number in array:\n",
      "[0.         1.         1.41421356 1.73205081 2.         2.23606798\n",
      " 2.44948974 2.64575131 2.82842712 3.        ]\n",
      "\n",
      "Multiplication of the square with its square root for each number in array:\n",
      "[  0.           1.           5.65685425  15.58845727  32.\n",
      "  55.90169944  88.18163074 129.64181424 181.01933598 243.        ]\n"
     ]
    }
   ],
   "source": [
    "import numpy as np\n",
    "\n",
    "myArray = np.arange(10)\n",
    "\n",
    "squared_array = np.square(myArray)\n",
    "\n",
    "sqrt_array = np.sqrt(myArray)\n",
    "\n",
    "multiplied_array = squared_array * sqrt_array\n",
    "\n",
    "print(\"Square of every number in array:\")\n",
    "print(squared_array)\n",
    "print(\"\\nSquare root of every number in array:\")\n",
    "print(sqrt_array)\n",
    "print(\"\\nMultiplication of the square with its square root for each number in array:\")\n",
    "print(multiplied_array)"
   ]
  },
  {
   "cell_type": "markdown",
   "id": "cf16e70c-23a4-4c10-a1f8-bd6c7478f765",
   "metadata": {},
   "source": [
    "ADDING ELEMENTS\r\n",
    "Use this array for the following practice: \r\n",
    "myArray = np.array([[11,12,13], [14,15,16], [17,18,19]])\r\n",
    "\r\n",
    "\r\n",
    "1. Add a new row of elements containing 20, 21 and 22\r\n",
    "\r\n",
    "2. Add a new column of elements containing 30, 40 and 50"
   ]
  },
  {
   "cell_type": "code",
   "execution_count": 16,
   "id": "5805bba9-968c-4b12-be35-8cad06ef2774",
   "metadata": {},
   "outputs": [
    {
     "name": "stdout",
     "output_type": "stream",
     "text": [
      "Array after adding a new row:\n",
      "[[11 12 13]\n",
      " [14 15 16]\n",
      " [17 18 19]\n",
      " [20 21 22]]\n",
      "\n",
      "Array after adding a new column:\n",
      "[[11 12 13 30]\n",
      " [14 15 16 40]\n",
      " [17 18 19 50]]\n"
     ]
    }
   ],
   "source": [
    "import numpy as np\n",
    "\n",
    "myArray = np.array([[11, 12, 13], [14, 15, 16], [17, 18, 19]])\n",
    "\n",
    "new_row = np.array([[20, 21, 22]])\n",
    "myArray_with_new_row = np.append(myArray, new_row, axis=0)\n",
    "\n",
    "new_column = np.array([[30], [40], [50]])\n",
    "myArray_with_new_column = np.append(myArray, new_column, axis=1)\n",
    "\n",
    "print(\"Array after adding a new row:\")\n",
    "print(myArray_with_new_row)\n",
    "print(\"\\nArray after adding a new column:\")\n",
    "print(myArray_with_new_column)"
   ]
  },
  {
   "cell_type": "markdown",
   "id": "9f113373-6b21-458d-9df0-eefe18df9438",
   "metadata": {},
   "source": [
    "INSERTING ELEMENTS \r\n",
    "\r\n",
    "1. Add 1 column of 1 to this array: myArray = np.zeros((2,2))\r\n",
    "2. Add 2 rows of 2 to the answer from part 1\r\n",
    "3. Remove the last column\r\n",
    "4. Remove the last row"
   ]
  },
  {
   "cell_type": "code",
   "execution_count": 17,
   "id": "4e8ed89a-9852-4dad-be7b-2f4f5d2e86f1",
   "metadata": {},
   "outputs": [
    {
     "name": "stdout",
     "output_type": "stream",
     "text": [
      "[[0. 0.]\n",
      " [0. 0.]\n",
      " [2. 2.]]\n"
     ]
    }
   ],
   "source": [
    "import numpy as np\n",
    "\n",
    "myArray = np.zeros((2, 2))\n",
    "column_of_ones = np.ones((2, 1))\n",
    "myArray_with_ones = np.hstack((myArray, column_of_ones))\n",
    "\n",
    "rows_of_twos = np.full((2, myArray_with_ones.shape[1]), 2)\n",
    "myArray_with_ones_twos = np.vstack((myArray_with_ones, rows_of_twos))\n",
    "\n",
    "myArray_no_last_col = myArray_with_ones_twos[:, :-1]\n",
    "\n",
    "final_array = myArray_no_last_col[:-1, :]\n",
    "\n",
    "print(final_array)"
   ]
  },
  {
   "cell_type": "markdown",
   "id": "731720ae-58e2-43fe-8616-b5d1f08a8cae",
   "metadata": {},
   "source": [
    "DELETING ELEMENTS\r\n",
    "\r\n",
    "\r\n",
    "Remove the elements from the middle column of this array:\r\n",
    "myArray = np.matrix([[1, 2, 3], [4, 5, 6], [9, 8, 7]])\r\n",
    "\r\n",
    "Your codes should look like this:\r\n",
    "[[1 3]\r\n",
    " [4 6]\r\n",
    " [9 7]]"
   ]
  },
  {
   "cell_type": "code",
   "execution_count": null,
   "id": "c9d47dd5-0edc-4d8a-b571-486a0e7b4e85",
   "metadata": {},
   "outputs": [],
   "source": [
    "import numpy as np\n",
    "\n",
    "myArray = np.array([[1, 2, 3], [4, 5, 6], [9, 8, 7]])\n",
    "\n",
    "result_array = np.delete(myArray, 1, axis=1)\n",
    "\n",
    "print(result_array)"
   ]
  },
  {
   "cell_type": "markdown",
   "id": "3fb846f0-3ead-41a7-8bc4-a730aed4c51d",
   "metadata": {},
   "source": [
    "TEST EXERCISE\r\n",
    "\r\n",
    "Replace all odd numbers in the given array with -1\r\n",
    "\r\n",
    "Start with:\r\n",
    "exercise_1 = np.array([0, 1, 2, 3, 4, 5, 6, 7, 8, 9])\r\n",
    "\r\n",
    "Desired output:\r\n",
    "[ 0, -1, 2, -1, 4, -1, 6, -1, 8, -1]"
   ]
  },
  {
   "cell_type": "code",
   "execution_count": 18,
   "id": "ddaeff4b-07b6-49e9-91db-6fd34bb45eab",
   "metadata": {},
   "outputs": [
    {
     "name": "stdout",
     "output_type": "stream",
     "text": [
      "[ 0 -1  2 -1  4 -1  6 -1  8 -1]\n"
     ]
    }
   ],
   "source": [
    "import numpy as np\n",
    "\n",
    "exercise_1 = np.array([0, 1, 2, 3, 4, 5, 6, 7, 8, 9])\n",
    "\n",
    "exercise_1[exercise_1 % 2 == 1] = -1\n",
    "\n",
    "print(exercise_1)"
   ]
  },
  {
   "cell_type": "markdown",
   "id": "7f25be3b-5866-40b9-b2d5-c3f4a7ae2f56",
   "metadata": {},
   "source": [
    "Convert a 1-D array into a 2-D array with 3 rows\r\n",
    "\r\n",
    "Start with:\r\n",
    "exercise_2 = np.array([0, 1, 2, 3, 4, 5, 6, 7, 8])\r\n",
    "\r\n",
    "Desired output:\r\n",
    "[[ 0, 1, 2]\r\n",
    "[3, 4, 5]\r\n",
    "[6, 7, 8]]"
   ]
  },
  {
   "cell_type": "code",
   "execution_count": 19,
   "id": "5395a3fc-e87f-4e97-badb-fc2d813b1ed0",
   "metadata": {},
   "outputs": [
    {
     "name": "stdout",
     "output_type": "stream",
     "text": [
      "[[0 1 2]\n",
      " [3 4 5]\n",
      " [6 7 8]]\n"
     ]
    }
   ],
   "source": [
    "import numpy as np\n",
    "\n",
    "array = np.array([0, 1, 2, 3, 4, 5, 6, 7, 8])\n",
    "\n",
    "array_reshaped = array.reshape(3, -1)\n",
    "\n",
    "print(array_reshaped)"
   ]
  },
  {
   "cell_type": "markdown",
   "id": "fde1df94-f988-46bc-bd2b-970022b3bcb3",
   "metadata": {},
   "source": [
    "Add 202 to all the values in given array\r\n",
    "\r\n",
    "Start with:\r\n",
    "exercise_3 = np.arange(4).reshape(2,-1)\r\n",
    "\r\n",
    "Desired output:\r\n",
    "[[202, 203]\r\n",
    "[204, 205]]"
   ]
  },
  {
   "cell_type": "code",
   "execution_count": null,
   "id": "9abd17d0-bdb1-437c-a432-0f6d5cbac963",
   "metadata": {},
   "outputs": [],
   "source": [
    "import numpy as np\n",
    "\n",
    "exercise_3 = np.arange(4).reshape(2, -1)\n",
    "\n",
    "exercise_3 += 202\n",
    "\n",
    "print(exercise_3)"
   ]
  },
  {
   "cell_type": "markdown",
   "id": "bda37cbc-2dd7-4322-a785-69529ef505a3",
   "metadata": {},
   "source": [
    "Generate a 1-D array of 10 random integers. Each integer should be a number between 30 and 40 (inclusive)\r\n",
    "\r\n",
    "Sample of desired output: \r\n",
    "[36, 30, 36, 38, 31, 35, 36, 30, 32, 34]"
   ]
  },
  {
   "cell_type": "code",
   "execution_count": 20,
   "id": "c4dc8ab7-15af-4ce0-8c94-aff320796b0a",
   "metadata": {},
   "outputs": [
    {
     "name": "stdout",
     "output_type": "stream",
     "text": [
      "[34 35 36 33 40 38 33 35 32 39]\n"
     ]
    }
   ],
   "source": [
    "import numpy as np\n",
    "\n",
    "random_array = np.random.randint(30, 41, 10)\n",
    "\n",
    "print(random_array)"
   ]
  },
  {
   "cell_type": "markdown",
   "id": "d2c34ede-a726-4298-978a-1e4f99a9d75b",
   "metadata": {},
   "source": [
    "Find the positions of:\r\n",
    "elements in x where its value is more than its corresponding element in y, and \r\n",
    "elements in x where its value is equals to its corresponding element in y.\r\n",
    "\r\n",
    "Start with these:\r\n",
    "x = np.array([21, 64, 86, 22, 74, 55, 81, 79, 90, 89]) \r\n",
    "y = np.array([21, 7, 3, 45, 10, 29, 55, 4, 37, 18])\r\n",
    "\r\n",
    "Desired output:\r\n",
    "(array([1, 2, 4, 5, 6, 7, 8, 9]),) and (array([0]),)"
   ]
  },
  {
   "cell_type": "code",
   "execution_count": 21,
   "id": "3725eee1-9aaa-4b29-89d9-c9748462bf99",
   "metadata": {},
   "outputs": [
    {
     "name": "stdout",
     "output_type": "stream",
     "text": [
      "Positions where x > y: (array([1, 2, 4, 5, 6, 7, 8, 9], dtype=int64),)\n",
      "Positions where x == y: (array([0], dtype=int64),)\n"
     ]
    }
   ],
   "source": [
    "import numpy as np\n",
    "\n",
    "x = np.array([21, 64, 86, 22, 74, 55, 81, 79, 90, 89]) \n",
    "y = np.array([21, 7, 3, 45, 10, 29, 55, 4, 37, 18]) \n",
    "\n",
    "positions_x_greater_y = np.where(x > y)\n",
    "\n",
    "positions_x_equals_y = np.where(x == y)\n",
    "\n",
    "print(\"Positions where x > y:\", positions_x_greater_y)\n",
    "print(\"Positions where x == y:\", positions_x_equals_y)"
   ]
  },
  {
   "cell_type": "markdown",
   "id": "b783ef70-ac84-4c9e-9ec0-8628741015a2",
   "metadata": {},
   "source": [
    "Extract the first four columns of this 2-D array\r\n",
    "Start with this: \r\n",
    "exercise_6 = np.arange(100).reshape(5,-1)\r\n",
    " \r\n",
    "Desired output:\r\n",
    "[[ 0 1 2 3]\r\n",
    "[20 21 22 23]\r\n",
    "[40 41 42 43]\r\n",
    "[60 61 62 63]\r\n",
    "[80 81 82 83]]"
   ]
  },
  {
   "cell_type": "code",
   "execution_count": 22,
   "id": "6f74da05-cc2f-490c-85b2-e020e3bdf689",
   "metadata": {},
   "outputs": [
    {
     "name": "stdout",
     "output_type": "stream",
     "text": [
      "[[ 0  1  2  3]\n",
      " [20 21 22 23]\n",
      " [40 41 42 43]\n",
      " [60 61 62 63]\n",
      " [80 81 82 83]]\n"
     ]
    }
   ],
   "source": [
    "import numpy as np\n",
    "\n",
    "exercise_6 = np.arange(100).reshape(5,-1)\n",
    "\n",
    "first_four_columns = exercise_6[:, :4]\n",
    "\n",
    "print(first_four_columns)"
   ]
  },
  {
   "cell_type": "code",
   "execution_count": 23,
   "id": "6a98eba0-78d5-48d7-ace7-ba00467e33fc",
   "metadata": {},
   "outputs": [
    {
     "name": "stdout",
     "output_type": "stream",
     "text": [
      "[[ 0  1  2  3]\n",
      " [20 21 22 23]\n",
      " [40 41 42 43]\n",
      " [60 61 62 63]\n",
      " [80 81 82 83]]\n"
     ]
    }
   ],
   "source": [
    "import numpy as np\n",
    "\n",
    "exercise_6 = np.arange(100).reshape(5,-1)\n",
    "\n",
    "first_four_columns = exercise_6[:, :4]\n",
    "\n",
    "print(first_four_columns)"
   ]
  },
  {
   "cell_type": "code",
   "execution_count": null,
   "id": "1a06f1eb-bfc7-402a-a5e9-f236308d6164",
   "metadata": {},
   "outputs": [],
   "source": []
  }
 ],
 "metadata": {
  "kernelspec": {
   "display_name": "Python 3 (ipykernel)",
   "language": "python",
   "name": "python3"
  },
  "language_info": {
   "codemirror_mode": {
    "name": "ipython",
    "version": 3
   },
   "file_extension": ".py",
   "mimetype": "text/x-python",
   "name": "python",
   "nbconvert_exporter": "python",
   "pygments_lexer": "ipython3",
   "version": "3.12.1"
  }
 },
 "nbformat": 4,
 "nbformat_minor": 5
}
